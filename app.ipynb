{
 "cells": [
  {
   "cell_type": "markdown",
   "id": "66b87368",
   "metadata": {},
   "source": [
    "# Envio de Mensagens automáticas - produtos com 10 % de desconto"
   ]
  },
  {
   "cell_type": "code",
   "execution_count": 14,
   "id": "20a18a1a",
   "metadata": {},
   "outputs": [
    {
     "name": "stdout",
     "output_type": "stream",
     "text": [
      "Separe por -VÍRGULA- , \n",
      "Produtos com desconto:Argila, Rímel e Lip Tint\n",
      "\n",
      "\n",
      "Olá, bom dia!\n",
      "\n",
      "Hoje na MEI STORE temos 10 % de desconto nesses produtos:\n",
      "\n",
      ":*Argila, Rímel e Lip Tint*\n",
      "-----------------\n",
      "Mensagem enviada por um Robô :)\n",
      "\n",
      "\n"
     ]
    },
    {
     "data": {
      "text/plain": [
       "'OK'"
      ]
     },
     "execution_count": 14,
     "metadata": {},
     "output_type": "execute_result"
    }
   ],
   "source": [
    "## bibliotecas\n",
    "import pyautogui\n",
    "import time\n",
    "import pyperclip\n",
    "\n",
    "pyautogui.PAUSE = 1\n",
    "\n",
    "pyautogui.alert('Início da rotina - Não use seu Computador')\n",
    "\n",
    "#pede ao usuário os produtos\n",
    "print('Separe por -VÍRGULA- , ')\n",
    "produtos = input('Produtos com desconto:')\n",
    "\n",
    "#texto\n",
    "texto = f\"\"\"\n",
    "\n",
    "Olá, bom dia!\n",
    "\n",
    "Hoje na MEI STORE temos 10 % de desconto nesses produtos:\n",
    "\n",
    ":*{produtos}*\n",
    "-----------------\n",
    "Mensagem enviada por um Robô :)\n",
    "\n",
    "\"\"\"\n",
    "print(texto)\n",
    "\n",
    "#link do whatsapp\n",
    "link = 'https://web.whatsapp.com/'\n",
    "pyperclip.copy(link)\n",
    "\n",
    "#abre o Whatsapp Web\n",
    "pyautogui.hotkey('ctrl', 't')\n",
    "pyautogui.hotkey('ctrl', 'v')\n",
    "pyautogui.press('enter')\n",
    "time.sleep(15)\n",
    "\n",
    "#conversa do Whatsapp\n",
    "pyautogui.click(232, 243)\n",
    "time.sleep(4)\n",
    "pyperclip.copy(texto)\n",
    "pyautogui.hotkey('ctrl', 'v')\n",
    "pyautogui.press('enter')\n",
    "\n",
    "pyautogui.alert('Rotina Finalizada')\n"
   ]
  },
  {
   "cell_type": "code",
   "execution_count": 13,
   "id": "e29d578e",
   "metadata": {},
   "outputs": [
    {
     "data": {
      "text/plain": [
       "Point(x=232, y=243)"
      ]
     },
     "execution_count": 13,
     "metadata": {},
     "output_type": "execute_result"
    }
   ],
   "source": [
    "# pega a posição do mouse\n",
    "import pyautogui\n",
    "import time\n",
    "\n",
    "time.sleep(3)\n",
    "pyautogui.position()"
   ]
  },
  {
   "cell_type": "code",
   "execution_count": null,
   "id": "bb44eee9",
   "metadata": {},
   "outputs": [],
   "source": []
  },
  {
   "cell_type": "code",
   "execution_count": null,
   "id": "be3416ac",
   "metadata": {},
   "outputs": [],
   "source": []
  }
 ],
 "metadata": {
  "kernelspec": {
   "display_name": "Python 3",
   "language": "python",
   "name": "python3"
  },
  "language_info": {
   "codemirror_mode": {
    "name": "ipython",
    "version": 3
   },
   "file_extension": ".py",
   "mimetype": "text/x-python",
   "name": "python",
   "nbconvert_exporter": "python",
   "pygments_lexer": "ipython3",
   "version": "3.8.8"
  }
 },
 "nbformat": 4,
 "nbformat_minor": 5
}
